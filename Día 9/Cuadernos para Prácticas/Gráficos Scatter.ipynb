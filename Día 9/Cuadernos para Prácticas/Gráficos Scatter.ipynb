{
 "cells": [
  {
   "cell_type": "code",
   "execution_count": 9,
   "id": "29bed3af",
   "metadata": {},
   "outputs": [],
   "source": [
    "%matplotlib inline\n",
    "import pandas as pd\n",
    "\n",
    "import matplotlib.pyplot as plt\n",
    "\n",
    "import numpy as np"
   ]
  },
  {
   "cell_type": "code",
   "execution_count": 2,
   "id": "0710f1fd",
   "metadata": {
    "scrolled": true
   },
   "outputs": [
    {
     "data": {
      "text/html": [
       "<div>\n",
       "<style scoped>\n",
       "    .dataframe tbody tr th:only-of-type {\n",
       "        vertical-align: middle;\n",
       "    }\n",
       "\n",
       "    .dataframe tbody tr th {\n",
       "        vertical-align: top;\n",
       "    }\n",
       "\n",
       "    .dataframe thead th {\n",
       "        text-align: right;\n",
       "    }\n",
       "</style>\n",
       "<table border=\"1\" class=\"dataframe\">\n",
       "  <thead>\n",
       "    <tr style=\"text-align: right;\">\n",
       "      <th></th>\n",
       "      <th>Fecha</th>\n",
       "      <th>Producto</th>\n",
       "      <th>Cantidad</th>\n",
       "      <th>Precio Unitario</th>\n",
       "      <th>Total Venta</th>\n",
       "    </tr>\n",
       "  </thead>\n",
       "  <tbody>\n",
       "    <tr>\n",
       "      <th>0</th>\n",
       "      <td>1/17/2023</td>\n",
       "      <td>Electrónic</td>\n",
       "      <td>7</td>\n",
       "      <td>200</td>\n",
       "      <td>1400</td>\n",
       "    </tr>\n",
       "    <tr>\n",
       "      <th>1</th>\n",
       "      <td>9/1/2023</td>\n",
       "      <td>Electrónic</td>\n",
       "      <td>8</td>\n",
       "      <td>200</td>\n",
       "      <td>1600</td>\n",
       "    </tr>\n",
       "    <tr>\n",
       "      <th>2</th>\n",
       "      <td>7/29/2023</td>\n",
       "      <td>Juguetes</td>\n",
       "      <td>3</td>\n",
       "      <td>30</td>\n",
       "      <td>90</td>\n",
       "    </tr>\n",
       "    <tr>\n",
       "      <th>3</th>\n",
       "      <td>10/4/2023</td>\n",
       "      <td>Alimentos</td>\n",
       "      <td>4</td>\n",
       "      <td>10</td>\n",
       "      <td>40</td>\n",
       "    </tr>\n",
       "    <tr>\n",
       "      <th>4</th>\n",
       "      <td>2/28/2023</td>\n",
       "      <td>Electrónic</td>\n",
       "      <td>6</td>\n",
       "      <td>200</td>\n",
       "      <td>1200</td>\n",
       "    </tr>\n",
       "    <tr>\n",
       "      <th>...</th>\n",
       "      <td>...</td>\n",
       "      <td>...</td>\n",
       "      <td>...</td>\n",
       "      <td>...</td>\n",
       "      <td>...</td>\n",
       "    </tr>\n",
       "    <tr>\n",
       "      <th>995</th>\n",
       "      <td>4/27/2023</td>\n",
       "      <td>Alimentos</td>\n",
       "      <td>2</td>\n",
       "      <td>10</td>\n",
       "      <td>20</td>\n",
       "    </tr>\n",
       "    <tr>\n",
       "      <th>996</th>\n",
       "      <td>6/9/2023</td>\n",
       "      <td>Ropa</td>\n",
       "      <td>10</td>\n",
       "      <td>50</td>\n",
       "      <td>500</td>\n",
       "    </tr>\n",
       "    <tr>\n",
       "      <th>997</th>\n",
       "      <td>8/21/2023</td>\n",
       "      <td>Alimentos</td>\n",
       "      <td>8</td>\n",
       "      <td>10</td>\n",
       "      <td>80</td>\n",
       "    </tr>\n",
       "    <tr>\n",
       "      <th>998</th>\n",
       "      <td>3/28/2023</td>\n",
       "      <td>Electrónic</td>\n",
       "      <td>6</td>\n",
       "      <td>200</td>\n",
       "      <td>1200</td>\n",
       "    </tr>\n",
       "    <tr>\n",
       "      <th>999</th>\n",
       "      <td>3/7/2023</td>\n",
       "      <td>Electrónic</td>\n",
       "      <td>4</td>\n",
       "      <td>200</td>\n",
       "      <td>800</td>\n",
       "    </tr>\n",
       "  </tbody>\n",
       "</table>\n",
       "<p>1000 rows × 5 columns</p>\n",
       "</div>"
      ],
      "text/plain": [
       "         Fecha    Producto  Cantidad  Precio Unitario  Total Venta\n",
       "0    1/17/2023  Electrónic         7              200         1400\n",
       "1     9/1/2023  Electrónic         8              200         1600\n",
       "2    7/29/2023    Juguetes         3               30           90\n",
       "3    10/4/2023   Alimentos         4               10           40\n",
       "4    2/28/2023  Electrónic         6              200         1200\n",
       "..         ...         ...       ...              ...          ...\n",
       "995  4/27/2023   Alimentos         2               10           20\n",
       "996   6/9/2023        Ropa        10               50          500\n",
       "997  8/21/2023   Alimentos         8               10           80\n",
       "998  3/28/2023  Electrónic         6              200         1200\n",
       "999   3/7/2023  Electrónic         4              200          800\n",
       "\n",
       "[1000 rows x 5 columns]"
      ]
     },
     "execution_count": 2,
     "metadata": {},
     "output_type": "execute_result"
    }
   ],
   "source": [
    "df = pd.read_csv(r\"C:\\Users\\edgar\\ML_Curso\\Día 9\\Cuadernos para Prácticas\\Files\\Ventas.csv\")\n",
    "df"
   ]
  },
  {
   "cell_type": "code",
   "execution_count": 3,
   "id": "6e1c82b8-1530-4975-8240-9e59684a2d6f",
   "metadata": {},
   "outputs": [
    {
     "data": {
      "image/png": "[encoded data removed]",
      "text/plain": [
       "<Figure size 640x480 with 1 Axes>"
      ]
     },
     "metadata": {},
     "output_type": "display_data"
    }
   ],
   "source": [
    "plt.hist(df[\"Producto\"])\n",
    "plt.show()"
   ]
  },
  {
   "cell_type": "code",
   "execution_count": 4,
   "id": "177b9334-ef85-480b-aef4-43ab2ed59dfd",
   "metadata": {},
   "outputs": [
    {
     "data": {
      "text/plain": [
       "array([ 3.77781938e-01,  1.06077591e+00,  9.18486132e-02,  6.57057821e-01,\n",
       "        3.09217294e-02,  4.91136958e-01,  2.42324375e+00,  3.63068433e-01,\n",
       "        5.08793732e-01, -3.58294217e-01,  7.63288348e-01,  4.58158886e-02,\n",
       "        1.98350963e-01,  1.50157825e-01, -2.11122833e+00,  9.07121460e-01,\n",
       "       -5.56363357e-01,  1.68111489e+00,  1.43989587e+00,  6.75249686e-01,\n",
       "       -1.19288048e-01,  1.78168610e-01, -7.05248412e-01, -1.12071516e+00,\n",
       "       -4.29309099e-01, -3.40768555e-02,  3.90430196e-01, -1.09666966e+00,\n",
       "        5.89841346e-01, -9.22441626e-01, -2.36675806e-01, -7.47898488e-02,\n",
       "       -2.79365994e-01, -1.21814872e+00,  4.13502587e-01, -1.10845679e+00,\n",
       "       -3.89740869e-01, -1.54676074e+00,  5.07924131e-01, -2.93057795e+00,\n",
       "        1.32213773e+00, -1.41169720e+00,  1.45693498e+00,  3.88965244e-01,\n",
       "       -6.54253252e-02,  9.76942911e-01, -9.75752519e-01,  9.47810062e-01,\n",
       "        2.48850591e-01,  5.04821476e-01,  8.84956899e-01, -9.20746785e-01,\n",
       "       -2.31288644e+00,  9.35371318e-02,  1.34843057e+00, -3.48884987e-01,\n",
       "       -2.91872051e+00,  2.40937129e-01, -4.76135278e-01,  1.31597156e+00,\n",
       "        5.11316226e-01,  1.26068286e+00,  1.62575655e+00,  1.91400389e+00,\n",
       "        5.69790090e-01,  1.16222856e+00, -1.51332500e+00, -5.79022483e-01,\n",
       "        7.04335653e-01, -1.78896996e+00, -7.24289221e-02, -4.76443462e-01,\n",
       "        5.74868909e-01,  7.74295801e-01, -5.61587882e-01,  1.47415905e+00,\n",
       "        1.60970792e-01,  1.29042779e+00, -1.01958459e+00, -1.49495599e+00,\n",
       "       -2.61679984e-01, -1.58789368e+00,  4.13702801e-01,  1.07047090e-01,\n",
       "       -1.21666704e+00, -6.23497724e-01, -2.78864902e-01, -6.35823332e-01,\n",
       "       -5.12893831e-01, -5.07598226e-03, -1.43549766e-01, -3.88614554e-01,\n",
       "        6.02594708e-01,  1.05303474e+00,  1.54785607e+00, -1.14033262e+00,\n",
       "        2.52678922e-01, -3.35143222e-01,  1.01107538e-01, -4.82180043e-01,\n",
       "       -8.23173728e-01,  1.00577718e+00,  1.51923538e+00, -1.14257445e+00,\n",
       "       -3.16082110e-01, -5.53413967e-02,  2.55600361e-01, -7.97891697e-01,\n",
       "       -4.78194474e-01, -4.96954815e-01,  2.70337714e-02,  4.85070742e-02,\n",
       "       -5.51266773e-01,  8.31932254e-01, -8.19930101e-01,  1.62140116e+00,\n",
       "        9.14086200e-02,  6.00918044e-01,  3.49922699e-01, -5.75365971e-01,\n",
       "        7.48250423e-01,  2.50390131e-01,  4.36617150e-01,  1.09255973e+00,\n",
       "       -1.43041963e-03,  9.04654456e-01,  9.59104283e-01, -5.82338792e-01,\n",
       "        7.02583854e-01,  4.88118454e-01, -4.20464428e-01, -1.34761942e+00,\n",
       "        4.92222592e-01, -1.40349087e+00, -7.51873680e-01,  1.64837250e-02,\n",
       "        9.91827494e-01,  4.46121789e-01,  1.58380787e+00, -5.06932415e-01,\n",
       "       -4.83234551e-02,  6.55595909e-02,  4.08522132e-01, -1.50223589e-01,\n",
       "        1.19670391e+00,  6.27796348e-01, -9.68473015e-01,  1.36939079e+00,\n",
       "       -8.80265904e-01, -1.26994247e+00,  6.25088432e-01,  1.59191030e+00,\n",
       "        6.75803836e-01, -1.77395475e+00,  2.00271317e-01, -4.02626322e-01,\n",
       "        1.15522064e+00, -5.99635955e-01, -9.09209761e-01, -1.40465419e+00,\n",
       "        2.27995558e-01,  1.01505490e+00,  1.22031778e+00, -1.21423743e+00,\n",
       "        4.81053762e-01,  5.96759419e-01,  1.02384204e+00, -1.85461763e+00,\n",
       "        2.17233463e+00,  7.59489431e-01,  2.12876569e-01, -5.98884604e-01,\n",
       "       -1.61189246e+00, -6.72510827e-01,  3.80612588e-01, -3.79118995e-01,\n",
       "       -2.35595867e-01, -1.03080553e+00, -8.64762738e-01, -3.71183205e-01,\n",
       "       -1.17261446e+00,  9.57514024e-01, -1.47589498e+00,  6.77354326e-01,\n",
       "        7.86076178e-01, -1.20943370e+00,  5.34144406e-01,  1.43056715e+00,\n",
       "        8.36548727e-01,  9.41716671e-02,  7.14588785e-01, -1.20178291e+00,\n",
       "       -1.45299346e+00, -2.01979230e-01, -2.58719999e-01, -8.97153771e-02,\n",
       "        8.30318973e-01,  4.41548501e-01, -2.42508221e+00,  1.55740715e+00,\n",
       "       -1.07490526e+00,  9.20760925e-01,  2.36753814e-02,  4.63907699e-01,\n",
       "        4.74145425e-01,  3.36482245e-01,  2.34272155e-01, -1.83598003e+00,\n",
       "        2.81690909e-01,  2.07850636e+00, -4.23246527e-01,  2.60954120e-01,\n",
       "       -8.93095910e-01,  3.58577416e-01, -1.91671134e+00,  5.36095358e-01,\n",
       "       -1.13541372e+00,  2.25847792e-01,  2.27784791e+00, -3.12424683e-02,\n",
       "        8.22097260e-01,  5.23038619e-01, -1.24086590e+00,  3.07554204e-01,\n",
       "        5.45087353e-01, -1.03501292e+00, -7.07439825e-01, -1.06513308e+00,\n",
       "       -1.06633225e+00,  1.25220601e-01, -5.74580938e-01, -8.93205414e-02,\n",
       "       -1.71365199e+00, -1.99402850e-01,  1.00201347e+00, -7.01131748e-01,\n",
       "        3.04660004e-02,  1.32445164e+00, -6.01892141e-01, -1.55287924e+00,\n",
       "       -8.38120467e-02, -2.98257041e-01, -4.49343092e-01,  1.57409477e+00,\n",
       "        2.07336536e+00, -5.64981042e-01, -2.01445709e-01, -2.23724441e+00,\n",
       "       -4.42038059e-01, -1.30124712e+00,  3.59932981e-01, -2.80228943e-01,\n",
       "       -6.25813867e-01, -1.23302526e+00, -1.34175469e+00, -2.12628005e-01,\n",
       "        8.63593534e-01,  1.61521314e-01, -1.78023318e+00,  1.12317409e+00,\n",
       "        1.90760265e+00, -1.15680169e+00, -4.01471481e-01, -1.74962496e+00,\n",
       "       -1.03749015e+00,  2.77430611e+00,  3.38334387e-01, -9.20367271e-01,\n",
       "        9.18630267e-01,  7.52471045e-01, -6.48639559e-01,  2.38723483e-01,\n",
       "        7.20633191e-01, -2.31089546e+00, -1.31953322e+00,  9.35016289e-02,\n",
       "        2.78652372e-01,  5.99859965e-02,  7.39872067e-01, -1.41214112e+00,\n",
       "        9.59585356e-01,  1.00775201e+00, -7.09579780e-01,  8.16675348e-01,\n",
       "        1.74677185e+00,  7.45521110e-01, -2.16907257e+00,  1.15764324e+00,\n",
       "        4.01632103e-01, -1.56191729e+00, -5.58669386e-01, -1.32820103e-01,\n",
       "       -1.92972426e-01,  4.18146669e-01,  1.84807332e-01, -1.36555373e+00,\n",
       "        1.31310288e+00, -2.01573875e-01, -7.25580768e-01, -1.25908382e+00,\n",
       "        3.90026451e-01,  6.19233332e-02, -8.76585152e-01, -1.12867086e+00,\n",
       "        4.65780675e-01,  1.29261487e+00,  7.98379964e-01, -9.42660542e-01,\n",
       "        7.01398850e-01,  1.69118824e+00, -3.53170527e-01,  3.64705482e-01,\n",
       "        1.04425931e+00, -1.02582902e-01, -7.43101145e-01, -6.63278149e-01,\n",
       "       -1.90136433e+00,  5.89856744e-01, -1.94068307e+00,  5.60798516e-01,\n",
       "       -1.82202075e-01,  3.28629567e-01,  4.24002544e-01,  1.06056966e+00,\n",
       "       -7.63785759e-01, -1.44241699e+00,  9.95197119e-01,  9.76292166e-01,\n",
       "        1.02206657e+00, -2.56111635e+00, -1.07380128e+00,  8.80010378e-01,\n",
       "       -8.92942494e-01, -2.66998051e-01, -8.13773761e-01,  5.30350286e-01,\n",
       "       -8.14416273e-01, -1.91828173e+00,  1.69760202e-01,  6.70015744e-02,\n",
       "       -9.69863127e-01, -1.27712675e+00, -7.00034655e-01,  6.92377697e-01,\n",
       "        5.40153314e-01,  1.37677649e+00, -3.82213989e+00,  1.88386131e+00,\n",
       "        4.02198963e-01,  1.09713487e+00,  6.62031317e-01,  1.56734698e+00,\n",
       "        7.22025857e-01,  2.87184828e-01,  1.17601330e+00, -1.91690685e+00,\n",
       "        3.50198065e-01,  6.88637744e-01,  2.12718053e-01, -1.24155140e+00,\n",
       "        2.49617163e+00, -6.54522652e-01, -1.86991122e-01,  1.61269709e+00,\n",
       "        2.90922808e-01, -3.19705740e-01, -5.27439900e-01, -6.21535779e-01,\n",
       "       -3.35178134e-01,  3.93162528e-01,  6.22065194e-01,  2.29035334e-01,\n",
       "        1.18902680e+00,  7.46110101e-01, -2.36275098e+00, -1.07576272e+00,\n",
       "       -1.67834718e+00,  1.31257728e+00,  1.16179157e+00,  2.68763082e-01,\n",
       "        8.28197435e-03, -5.96135677e-01, -2.90616202e+00, -2.36684433e-01,\n",
       "       -4.71810329e-01, -3.99383811e-01, -1.24814871e+00,  2.97219291e+00,\n",
       "       -1.35352440e+00, -7.13366303e-01,  5.10661885e-01, -5.15841696e-02,\n",
       "       -7.21259256e-01,  1.51933657e-01, -1.40242860e+00,  1.26083407e+00,\n",
       "       -2.40424975e-01,  2.15259245e+00, -8.34316631e-01, -7.28148214e-01,\n",
       "        1.86353632e+00,  1.25531538e+00, -7.45211811e-01, -1.60711099e-02,\n",
       "        6.53161552e-01, -1.69194883e+00, -1.62933987e+00,  1.58410764e+00,\n",
       "        2.66000647e-01, -2.46039571e+00, -2.75936072e-01, -5.30349560e-01,\n",
       "       -5.18594005e-02, -3.98888998e-01,  8.31445520e-01,  9.18131163e-01,\n",
       "        1.15721164e+00,  5.91520037e-01, -9.49344793e-01,  8.67463180e-01,\n",
       "       -4.28267273e-01,  2.61608190e-01,  1.59181051e-01, -8.00313479e-01,\n",
       "       -1.12398404e+00, -6.45106345e-01, -5.21140130e-01, -1.60265299e+00,\n",
       "        5.14056486e-01,  1.33951117e-01,  8.49027123e-01,  1.26756470e-01,\n",
       "        1.22899603e+00, -8.95957008e-01,  2.75191919e-01, -9.89985264e-01,\n",
       "        1.92365444e+00,  3.00143354e-01, -9.00596451e-01,  1.15581333e+00,\n",
       "       -9.62810051e-01, -1.17509204e+00, -2.94302403e-01, -8.15355103e-01,\n",
       "       -3.78744232e-01,  1.74221742e-01, -2.25124936e-01, -7.60264927e-02,\n",
       "        2.77599900e-01,  1.55806225e+00,  1.22179393e+00, -6.86696984e-01,\n",
       "        3.76810450e-01, -2.91746846e+00, -2.74670409e+00,  1.18064149e+00,\n",
       "        4.26565823e-01, -4.11755024e-01,  7.41476479e-01,  4.93599635e-01,\n",
       "        7.91926674e-01, -1.02684832e+00,  1.16076970e+00,  4.41103584e-01,\n",
       "        1.01452026e+00,  4.41286316e-01,  1.29879622e+00,  9.90764664e-01,\n",
       "       -1.80481050e+00, -2.84766744e-01,  3.47738365e-01, -1.53529465e+00,\n",
       "        2.97349267e-02, -2.21137504e-01, -3.83612164e-02,  9.19960857e-01,\n",
       "       -1.18161736e-01, -7.35534876e-01, -1.18576410e+00,  9.58437023e-01,\n",
       "        1.91083901e+00, -2.80687631e-01, -1.79051141e+00, -5.40290032e-01,\n",
       "       -2.65109145e+00,  2.17159810e+00,  2.26342848e-01,  5.94741259e-01,\n",
       "        1.04654776e+00,  9.59199326e-01,  1.48057431e-01,  3.78635593e-01,\n",
       "        1.04937482e+00,  2.06573162e-01,  1.25841518e+00,  1.73170616e-01,\n",
       "        1.36916634e+00, -3.80538088e-01, -1.57882724e+00, -1.30718508e+00,\n",
       "        1.19661119e+00, -1.31901630e-01,  1.06764012e+00, -1.35715018e+00,\n",
       "       -3.07016177e-01, -1.26134282e+00, -4.53629346e-01,  6.05609656e-01,\n",
       "        2.01940588e+00, -1.46220947e-01,  1.97244405e+00,  9.81356730e-01,\n",
       "       -1.01600764e-01, -5.75524820e-01,  6.08601577e-03,  1.30063093e+00,\n",
       "       -7.75194292e-01, -1.16313840e+00,  1.64249510e+00, -2.49709356e-01,\n",
       "       -1.20831063e-01,  5.80199297e-01,  8.61635890e-01,  2.48828990e+00,\n",
       "       -2.11778259e-01, -3.12660183e-01, -6.19756394e-01,  1.03681539e+00,\n",
       "       -4.96707865e-01,  1.88001446e+00,  1.48836717e+00, -1.74266381e+00,\n",
       "       -6.62040347e-04, -6.24527911e-01, -6.31886754e-01,  5.18882626e-01,\n",
       "       -2.10633941e+00, -9.23407494e-01, -1.36554640e+00,  2.15734167e+00,\n",
       "        4.99171386e-01, -1.95254609e+00, -1.35305158e+00,  4.94112985e-01,\n",
       "       -1.91371733e+00, -8.35110225e-01, -1.66696882e+00,  1.87744888e+00,\n",
       "        3.74566892e-01,  3.00094525e-01, -3.53301497e-01, -3.66435864e-01,\n",
       "        1.82596534e-01, -4.07908252e-01,  3.15902910e-01, -6.48247653e-01,\n",
       "       -9.40152754e-02,  1.58240079e+00,  2.90293111e-01, -3.52177570e-01,\n",
       "       -6.62114489e-01, -3.70535813e-01, -1.49811154e+00,  1.32092365e+00,\n",
       "       -9.70942860e-01, -7.81169358e-03, -7.51279051e-02, -6.00151831e-01,\n",
       "       -1.99480676e+00,  1.23292770e-01,  7.05584757e-01,  1.59731250e+00,\n",
       "        3.78021492e-01,  2.68714914e-01,  1.67671161e+00, -1.02560162e+00,\n",
       "        2.53763997e+00,  7.88036220e-01, -3.44312454e+00, -1.11814809e+00,\n",
       "        3.44708394e-01,  5.08657884e-01, -1.43855026e+00, -6.49502559e-01,\n",
       "       -1.66236655e-01,  4.48570062e-01, -1.14398344e+00,  4.19346871e-02,\n",
       "        8.48422761e-02, -4.78016411e-02,  6.18978874e-01,  1.33221837e-04,\n",
       "       -1.55729078e+00, -1.46413840e-01, -4.43236733e-01,  1.30731115e+00,\n",
       "       -7.24353509e-01, -1.22478330e+00,  8.59958579e-01, -8.52454233e-01,\n",
       "        5.08773266e-01, -9.76008252e-01, -7.70104833e-01,  7.13018940e-01,\n",
       "        1.82367889e-01,  3.60761003e-01, -1.01706187e-01,  7.65029770e-01,\n",
       "        1.96667343e-02, -1.37129594e+00, -4.23559263e-03,  1.04323883e+00,\n",
       "       -5.50669923e-01, -1.73067939e+00, -7.18732029e-01,  6.69524983e-02,\n",
       "       -1.47232567e+00, -1.24877416e+00, -8.33243735e-01, -2.92907531e-01,\n",
       "       -1.14869808e+00, -4.90025374e-01, -2.77212501e-01, -3.91790151e-01,\n",
       "        3.47123388e-01, -1.57634649e+00,  8.22345035e-01, -5.64820619e-01,\n",
       "       -1.04807907e-01,  1.53772876e-01, -5.44426612e-02, -1.04859910e+00,\n",
       "       -2.12501347e+00, -1.45025447e+00,  7.17158349e-01, -1.52350387e-02,\n",
       "        5.85510617e-01,  7.96595610e-01,  6.60735459e-02,  2.40681112e+00,\n",
       "        3.71830111e-01, -2.94889525e-01, -1.62466394e+00, -7.45640230e-01,\n",
       "       -2.81572889e-01,  3.92611413e-01,  6.39642484e-01, -3.13202335e+00,\n",
       "       -2.19483087e+00,  1.56362427e-01, -3.09382450e-01,  1.08025199e+00,\n",
       "        4.07885715e-01, -5.98178243e-01, -5.55204751e-01, -1.26490516e+00,\n",
       "        1.23185190e+00,  1.13870702e+00, -7.49097886e-01, -1.50226894e+00,\n",
       "       -7.36265938e-01, -9.80387808e-01, -9.78137209e-02,  1.66202920e+00,\n",
       "       -7.09498771e-02, -7.83052334e-01,  2.11839130e+00, -1.37242630e+00,\n",
       "        1.14301981e+00, -7.52661474e-01, -2.89274438e-01,  5.26912904e-01,\n",
       "       -1.44985583e+00,  1.51776213e+00, -1.53318141e+00, -5.32883265e-01,\n",
       "        1.64961491e+00,  1.32823358e-01, -4.83357422e-01, -2.26360267e-01,\n",
       "        2.59747893e-01,  2.13657061e-01, -3.13301516e-01, -4.82683047e-01,\n",
       "       -1.72628944e+00, -1.08038823e+00,  6.72391946e-01, -1.02078026e+00,\n",
       "        2.58910272e-01, -2.40593628e-01,  4.27389471e-01, -4.28516047e-01,\n",
       "       -1.26951229e+00, -6.88439753e-02,  1.38979694e+00,  2.61927587e-02,\n",
       "       -6.56123920e-01,  8.33130072e-02,  3.51549244e-01, -8.54206884e-02,\n",
       "       -2.44875333e-01, -7.77259090e-01,  1.25466088e+00, -6.91234245e-01,\n",
       "        1.46524516e+00,  1.39890607e+00, -9.41962864e-01,  1.05026223e+00,\n",
       "       -2.22662802e+00, -1.23953448e+00,  5.07321440e-01, -1.45973639e+00,\n",
       "       -1.18770671e+00, -6.03929152e-01,  2.38957538e+00,  8.40671383e-01,\n",
       "        1.28324456e+00,  2.39394030e-01,  5.27115994e-01, -9.96198481e-01,\n",
       "       -5.64203754e-02, -1.77024276e+00,  9.20303865e-01,  1.95241194e+00,\n",
       "        1.06783076e+00, -2.44552252e+00, -9.67389427e-01, -2.34289873e+00,\n",
       "        3.14297654e-01,  1.83918478e+00,  2.04235799e-01,  5.74860614e-01,\n",
       "       -6.89565700e-01,  9.02874804e-01,  1.08115330e+00,  1.02736842e+00,\n",
       "       -2.37710543e-01, -6.66610093e-01,  9.42871948e-01, -1.68685208e+00,\n",
       "        5.06990032e-01,  2.75351459e-01, -9.02656656e-01,  1.23872214e+00,\n",
       "       -1.29813962e+00, -9.36754484e-01,  3.91972272e-01,  1.38228714e+00,\n",
       "       -1.18056040e+00, -1.46292610e+00,  1.85094748e-01, -1.17951473e+00,\n",
       "       -4.39720248e-01,  5.46306979e-01,  4.17990439e-02,  1.71613347e-01,\n",
       "        2.90457773e-01, -8.70677504e-01, -2.31384961e+00, -1.97592721e-01,\n",
       "        3.70201178e-01,  1.89493927e+00,  1.74176006e+00,  1.41836504e-01,\n",
       "        2.01963229e-01, -1.04970199e+00,  8.62032845e-01, -1.40257648e+00,\n",
       "        2.37605847e-01, -1.52244201e+00,  5.66238713e-01, -3.23400524e-01,\n",
       "       -5.37048489e-01,  2.38207464e+00,  7.06342698e-02, -1.74562489e+00,\n",
       "        2.46665934e+00,  1.55692919e+00,  1.76325090e+00,  4.65923197e-01,\n",
       "       -1.36386919e+00,  5.57341456e-01, -1.13435816e+00,  9.62491086e-01,\n",
       "        7.65422848e-01, -7.73144980e-01,  8.74526189e-01, -2.32967992e-01,\n",
       "        2.95875455e+00,  5.97644775e-01, -2.76298623e-01,  4.85447951e-02,\n",
       "       -1.43045160e+00, -7.82653430e-01, -9.98615442e-01, -1.29536526e-01,\n",
       "       -8.05445144e-01,  1.47422361e+00, -2.22061437e-01,  7.32832371e-01,\n",
       "       -6.51301175e-01,  7.53781544e-01, -7.53407252e-03, -1.92713375e+00,\n",
       "       -7.86442208e-01,  1.54087766e+00,  9.39608769e-01, -2.23531293e-01,\n",
       "        1.23059117e+00, -5.49789255e-01, -1.62185168e+00,  3.28978672e-01,\n",
       "       -2.29272750e-01,  1.29216989e+00, -8.22805817e-01,  2.10688968e+00,\n",
       "        1.86204053e+00,  1.78247697e+00, -1.01948092e+00,  7.04689710e-01,\n",
       "        1.23040949e+00, -2.03877198e-01, -9.20800521e-01, -1.30249793e+00,\n",
       "        1.20651402e+00,  4.64025380e-01, -5.93403059e-01,  3.22352620e-01,\n",
       "       -1.04071202e+00, -1.57513924e-02, -4.38410948e-01, -1.12724281e-01,\n",
       "       -9.50845559e-02, -5.44129322e-02, -5.74059197e-01, -1.24584105e+00,\n",
       "       -1.17968694e-01,  2.11918922e+00,  7.22543554e-01, -1.90896271e+00,\n",
       "       -8.74262189e-01,  1.44902498e-02,  1.00922180e+00,  6.20042846e-02,\n",
       "        5.71809529e-01, -1.01221118e+00,  1.75489297e+00,  1.20740273e+00,\n",
       "        5.60867895e-01, -6.01837383e-01,  3.90226085e-02, -1.20031186e+00,\n",
       "       -1.79960914e+00, -2.16038876e+00,  3.52802630e-01, -1.64159609e-01,\n",
       "        7.23986818e-01,  3.47747932e-02,  1.21560317e+00, -5.42246982e-01,\n",
       "        1.15504155e+00,  1.41412701e+00, -2.87110066e-01, -9.00779717e-01,\n",
       "        6.62338686e-01, -7.05138210e-01,  1.11777453e-01,  1.36062794e+00,\n",
       "        1.38725623e+00, -1.85849541e-01, -1.68237479e+00, -8.83129893e-01,\n",
       "        4.12097266e-02,  7.74593182e-03, -1.13469563e+00, -1.23370517e-01,\n",
       "       -1.42485974e+00,  3.97465085e-01,  3.86909957e-01,  5.28245288e-01,\n",
       "        6.90957296e-01,  8.26500253e-01,  1.25259192e+00,  2.12319469e+00,\n",
       "       -1.21941770e+00,  1.67570724e+00,  1.76462401e+00,  5.21987385e-01,\n",
       "       -1.72746357e-01,  1.75172418e+00,  2.69534233e-01,  1.28116331e+00,\n",
       "       -1.03026398e+00,  6.90819984e-01,  3.05018356e-01,  1.46584650e-01,\n",
       "       -5.09828615e-01,  2.43468444e+00, -8.52746897e-01,  7.61466648e-02,\n",
       "       -8.04032387e-01, -2.76674689e-01, -9.14779164e-01,  6.32206635e-01,\n",
       "        2.45968526e-01,  4.86615773e-01,  1.93568129e-01, -1.99435614e+00,\n",
       "        1.65105368e+00,  5.59323525e-01, -3.70392730e-01, -1.81284576e+00,\n",
       "        1.57154338e+00,  7.77276858e-01, -1.18265419e+00,  1.20228253e-01,\n",
       "        4.02243904e-01, -7.10478897e-01, -5.48933168e-01,  4.04877420e-01,\n",
       "        6.07369854e-02,  7.94912225e-01, -1.49747631e+00,  4.10477099e-01,\n",
       "       -1.66384314e+00,  7.86328828e-01,  2.78716566e+00, -1.03529443e-02,\n",
       "       -1.04505555e-01, -1.18078224e+00,  1.35384132e+00,  5.88575902e-01,\n",
       "       -4.05248998e-01,  5.98987876e-01,  4.30507027e-01,  1.26062964e+00,\n",
       "       -7.96858294e-02, -7.81962086e-02,  9.61381801e-01,  1.27928138e+00,\n",
       "        3.16261066e-01,  8.16497252e-01,  1.28254593e+00,  6.40099974e-01,\n",
       "       -6.72569475e-01,  4.59855765e-02, -7.87476156e-01,  1.57524956e+00,\n",
       "       -2.04427432e-01, -7.12973223e-01, -6.76711559e-01, -1.12265742e-01,\n",
       "        6.33455790e-01, -1.08425464e+00, -5.67932370e-01,  9.60398778e-01,\n",
       "        9.23854640e-01, -8.28775396e-01,  3.95151455e-01,  1.02354188e+00,\n",
       "        1.02681840e-01, -1.27001724e+00,  1.02576060e+00,  1.17236992e+00,\n",
       "       -9.02092728e-02,  1.48427620e+00, -9.56173419e-01, -9.98048903e-01,\n",
       "       -4.00200613e-01, -1.77110754e-01,  6.23922966e-01,  3.33937118e-01,\n",
       "        8.14634131e-01, -5.66039779e-01,  9.23662502e-02,  4.46718581e-02,\n",
       "       -1.66573500e+00,  2.65927948e-01,  1.69355360e+00, -1.49758368e+00,\n",
       "       -7.82656256e-01, -1.00394030e+00,  1.20325918e+00,  2.85333684e-01,\n",
       "       -9.24017754e-01, -1.35859861e+00,  3.01777702e-01,  1.27197985e+00,\n",
       "       -7.48422101e-01, -4.31958201e-01,  7.18834518e-01, -3.58342874e-01,\n",
       "        1.43828122e-01, -7.71808433e-01, -7.74037889e-01,  6.54637771e-01,\n",
       "       -2.05861039e+00, -2.10232223e-01, -3.34774651e-01, -1.12722206e+00])"
      ]
     },
     "execution_count": 4,
     "metadata": {},
     "output_type": "execute_result"
    }
   ],
   "source": [
    "numeros = np.random.randn(1000)\n",
    "numeros"
   ]
  },
  {
   "cell_type": "code",
   "execution_count": 12,
   "id": "a985b2fe-3036-4ec9-ab9c-19ac050fc0dc",
   "metadata": {},
   "outputs": [
    {
     "data": {
      "image/png": "[encoded data removed]",
      "text/plain": [
       "<Figure size 640x480 with 1 Axes>"
      ]
     },
     "metadata": {},
     "output_type": "display_data"
    }
   ],
   "source": [
    "plt.hist(numeros);\n",
    "plt.show()"
   ]
  },
  {
   "cell_type": "code",
   "execution_count": 13,
   "id": "e991e9d7-a433-4242-b32a-320f7b1689fc",
   "metadata": {},
   "outputs": [
    {
     "data": {
      "image/png": "[encoded data removed]",
      "text/plain": [
       "<Figure size 640x480 with 1 Axes>"
      ]
     },
     "metadata": {},
     "output_type": "display_data"
    }
   ],
   "source": [
    "plt.hist(numeros, bins=40);\n",
    "\n",
    "plt.show()"
   ]
  },
  {
   "cell_type": "code",
   "execution_count": 14,
   "id": "1fd835df-41c3-44bc-9cef-6f21c2f68ce3",
   "metadata": {},
   "outputs": [
    {
     "data": {
      "image/png": "[encoded data removed]",
      "text/plain": [
       "<Figure size 640x480 with 1 Axes>"
      ]
     },
     "metadata": {},
     "output_type": "display_data"
    }
   ],
   "source": [
    "plt.hist(numeros, bins=40, alpha=0.5);\n",
    "\n",
    "plt.show()"
   ]
  },
  {
   "cell_type": "code",
   "execution_count": 16,
   "id": "50a2f1ab-311b-4bed-ab45-35fc84ac77e9",
   "metadata": {},
   "outputs": [
    {
     "data": {
      "image/png": "[encoded data removed]",
      "text/plain": [
       "<Figure size 640x480 with 1 Axes>"
      ]
     },
     "metadata": {},
     "output_type": "display_data"
    }
   ],
   "source": [
    "plt.hist(numeros, bins=40, alpha=0.50, color='red');\n",
    "\n",
    "plt.show()"
   ]
  },
  {
   "cell_type": "code",
   "execution_count": 17,
   "id": "c7135018-b1e5-4e8f-b124-09f9050dff03",
   "metadata": {},
   "outputs": [
    {
     "data": {
      "image/png": "[encoded data removed]",
      "text/plain": [
       "<Figure size 640x480 with 1 Axes>"
      ]
     },
     "metadata": {},
     "output_type": "display_data"
    }
   ],
   "source": [
    "plt.hist(numeros, bins=40, alpha=0.50, color='red', edgecolor='green');\n",
    "plt.show()"
   ]
  },
  {
   "cell_type": "code",
   "execution_count": 18,
   "id": "fa37d90c-11ed-4365-b209-5852a5e3a93e",
   "metadata": {},
   "outputs": [
    {
     "data": {
      "image/png": "[encoded data removed]",
      "text/plain": [
       "<Figure size 640x480 with 1 Axes>"
      ]
     },
     "metadata": {},
     "output_type": "display_data"
    }
   ],
   "source": [
    "plt.hist(numeros, bins=40, alpha=0.50, color='red', edgecolor='green', histtype='step');\n",
    "plt.show()"
   ]
  },
  {
   "cell_type": "code",
   "execution_count": 22,
   "id": "7567c1ca-09ca-47b8-b85a-dfb44f342744",
   "metadata": {},
   "outputs": [
    {
     "data": {
      "image/png": "[encoded data removed]",
      "text/plain": [
       "<Figure size 640x480 with 1 Axes>"
      ]
     },
     "metadata": {},
     "output_type": "display_data"
    }
   ],
   "source": [
    "x1 = np.random.randn(1000)\n",
    "x2 = np.random.randn(500)\n",
    "x3 = np.random.randn(100)\n",
    "\n",
    "plt.hist(x1, histtype=\"stepfilled\", alpha=0.3, bins=40)\n",
    "plt.hist(x2, histtype=\"stepfilled\", alpha=0.3, bins=40)\n",
    "plt.hist(x3, histtype=\"stepfilled\", alpha=0.3, bins=40)\n",
    "plt.show()"
   ]
  },
  {
   "cell_type": "code",
   "execution_count": null,
   "id": "0f2ac6b8-10c2-4fb8-8d32-4c333b81da2d",
   "metadata": {},
   "outputs": [],
   "source": []
  }
 ],
 "metadata": {
  "kernelspec": {
   "display_name": "Python [conda env:base] *",
   "language": "python",
   "name": "conda-base-py"
  },
  "language_info": {
   "codemirror_mode": {
    "name": "ipython",
    "version": 3
   },
   "file_extension": ".py",
   "mimetype": "text/x-python",
   "name": "python",
   "nbconvert_exporter": "python",
   "pygments_lexer": "ipython3",
   "version": "3.13.5"
  }
 },
 "nbformat": 4,
 "nbformat_minor": 5
}
